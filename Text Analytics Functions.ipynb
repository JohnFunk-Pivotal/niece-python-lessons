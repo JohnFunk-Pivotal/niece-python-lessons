{
 "cells": [
  {
   "cell_type": "code",
   "execution_count": 1,
   "metadata": {},
   "outputs": [],
   "source": [
    "from src import textanalytics as ta"
   ]
  },
  {
   "cell_type": "code",
   "execution_count": 2,
   "metadata": {},
   "outputs": [],
   "source": [
    "d1=ta.wordcount(\"now is the time for all good men to come to the aid of their party\")\n",
    "d2=ta.wordcount(\"the quick brown fox jumped over the sleeping dog\")"
   ]
  },
  {
   "cell_type": "code",
   "execution_count": 3,
   "metadata": {},
   "outputs": [
    {
     "data": {
      "text/plain": [
       "['now',\n",
       " 'is',\n",
       " 'time',\n",
       " 'for',\n",
       " 'all',\n",
       " 'good',\n",
       " 'men',\n",
       " 'to',\n",
       " 'come',\n",
       " 'aid',\n",
       " 'of',\n",
       " 'their',\n",
       " 'party']"
      ]
     },
     "execution_count": 3,
     "metadata": {},
     "output_type": "execute_result"
    }
   ],
   "source": [
    "l=ta.in_a_not_in_b(d1,d2)\n",
    "l"
   ]
  },
  {
   "cell_type": "code",
   "execution_count": 4,
   "metadata": {},
   "outputs": [
    {
     "data": {
      "text/plain": [
       "['quick', 'brown', 'fox', 'jumped', 'over', 'sleeping', 'dog']"
      ]
     },
     "execution_count": 4,
     "metadata": {},
     "output_type": "execute_result"
    }
   ],
   "source": [
    "l=ta.in_a_not_in_b(d2,d1)\n",
    "l"
   ]
  },
  {
   "cell_type": "code",
   "execution_count": 5,
   "metadata": {},
   "outputs": [
    {
     "data": {
      "text/plain": [
       "[]"
      ]
     },
     "execution_count": 5,
     "metadata": {},
     "output_type": "execute_result"
    }
   ],
   "source": [
    "l=ta.in_a_not_in_b(d1,d1)\n",
    "l"
   ]
  },
  {
   "cell_type": "markdown",
   "metadata": {},
   "source": [
    "# some tests"
   ]
  },
  {
   "cell_type": "code",
   "execution_count": 6,
   "metadata": {},
   "outputs": [],
   "source": [
    "#One Word Tests\n",
    "d1=ta.wordcount(\"one\")\n",
    "assert len(d1)==1   # test there is only 1 word in the result\n",
    "assert d1[\"one\"]==1 # test count of the word \"one\" is 1"
   ]
  },
  {
   "cell_type": "code",
   "execution_count": 7,
   "metadata": {},
   "outputs": [],
   "source": [
    "#Three Word Tests\n",
    "d2=ta.wordcount(\"one two three\")\n",
    "assert len(d2)==3  # test there are 3 words in the result\n",
    "assert d2[\"one\"]==1 # test each word has a count of 1\n",
    "assert d2[\"two\"]==1\n",
    "assert d2[\"three\"]==1"
   ]
  },
  {
   "cell_type": "code",
   "execution_count": 11,
   "metadata": {},
   "outputs": [],
   "source": [
    "#test that a_union_b(['one','two','three'],['one']) returns 'one'\n",
    "u=ta.a_union_b(d1,d2)\n",
    "assert(u==['one'])"
   ]
  },
  {
   "cell_type": "code",
   "execution_count": 8,
   "metadata": {},
   "outputs": [],
   "source": [
    "#test that in_a_not_in_b of \"one\", \"one\" return an empty set\n",
    "assert ta.in_a_not_in_b(d1,d1)==[]"
   ]
  },
  {
   "cell_type": "code",
   "execution_count": 9,
   "metadata": {},
   "outputs": [
    {
     "name": "stdout",
     "output_type": "stream",
     "text": [
      "['two', 'three']\n"
     ]
    }
   ],
   "source": [
    "#test that in_a_not_in_b of ['one','two','three'],['one'] returns a set with both 'two' and 'three' in it\n",
    "l=ta.in_a_not_in_b(d2,d1)\n",
    "assert(\"two\" in l)\n",
    "assert(\"three\" in l)"
   ]
  },
  {
   "cell_type": "code",
   "execution_count": null,
   "metadata": {},
   "outputs": [],
   "source": []
  }
 ],
 "metadata": {
  "kernelspec": {
   "display_name": "Python 3",
   "language": "python",
   "name": "python3"
  },
  "language_info": {
   "codemirror_mode": {
    "name": "ipython",
    "version": 3
   },
   "file_extension": ".py",
   "mimetype": "text/x-python",
   "name": "python",
   "nbconvert_exporter": "python",
   "pygments_lexer": "ipython3",
   "version": "3.6.3"
  }
 },
 "nbformat": 4,
 "nbformat_minor": 2
}
